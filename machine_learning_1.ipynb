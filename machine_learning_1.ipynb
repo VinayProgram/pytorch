{
  "nbformat": 4,
  "nbformat_minor": 0,
  "metadata": {
    "colab": {
      "provenance": [],
      "authorship_tag": "ABX9TyN1VTLKFUwmh5OPlzbLS5Bt",
      "include_colab_link": true
    },
    "kernelspec": {
      "name": "python3",
      "display_name": "Python 3"
    },
    "language_info": {
      "name": "python"
    }
  },
  "cells": [
    {
      "cell_type": "markdown",
      "metadata": {
        "id": "view-in-github",
        "colab_type": "text"
      },
      "source": [
        "<a href=\"https://colab.research.google.com/github/VinayProgram/pytorch/blob/main/machine_learning_1.ipynb\" target=\"_parent\"><img src=\"https://colab.research.google.com/assets/colab-badge.svg\" alt=\"Open In Colab\"/></a>"
      ]
    },
    {
      "cell_type": "code",
      "execution_count": 29,
      "metadata": {
        "colab": {
          "base_uri": "https://localhost:8080/"
        },
        "id": "EV7GROnPh8mX",
        "outputId": "980e636f-a261-4b10-aadd-33dd0324fc89"
      },
      "outputs": [
        {
          "output_type": "stream",
          "name": "stdout",
          "text": [
            "tensor([[0.0797, 0.4216, 0.3998, 0.3788, 0.7524, 0.1435, 0.7275, 0.1070, 0.9438,\n",
            "         0.5122, 0.2323, 0.0236],\n",
            "        [0.7012, 0.0628, 0.3102, 0.4619, 0.6949, 0.1120, 0.9605, 0.5016, 0.2924,\n",
            "         0.8758, 0.1070, 0.1490],\n",
            "        [0.5925, 0.6901, 0.5389, 0.9692, 0.2133, 0.3833, 0.1152, 0.9808, 0.7797,\n",
            "         0.0759, 0.4819, 0.4615],\n",
            "        [0.1580, 0.0389, 0.9967, 0.8478, 0.5718, 0.8139, 0.8559, 0.6513, 0.1668,\n",
            "         0.0530, 0.1789, 0.2460],\n",
            "        [0.9968, 0.0136, 0.6342, 0.8512, 0.0378, 0.6770, 0.6301, 0.0739, 0.5753,\n",
            "         0.7140, 0.9374, 0.6936],\n",
            "        [0.6842, 0.3922, 0.8460, 0.1330, 0.1767, 0.7982, 0.6203, 0.7770, 0.9416,\n",
            "         0.3889, 0.9902, 0.9739],\n",
            "        [0.7511, 0.4606, 0.0293, 0.1401, 0.7811, 0.0348, 0.9480, 0.8425, 0.9107,\n",
            "         0.4280, 0.9432, 0.3607],\n",
            "        [0.2201, 0.5006, 0.0674, 0.8386, 0.6121, 0.2257, 0.1355, 0.7943, 0.7011,\n",
            "         0.9593, 0.7588, 0.9775],\n",
            "        [0.4175, 0.2378, 0.5685, 0.1794, 0.0344, 0.8346, 0.2590, 0.0789, 0.0184,\n",
            "         0.0494, 0.0923, 0.4592],\n",
            "        [0.4824, 0.7870, 0.7118, 0.9828, 0.0711, 0.6187, 0.0402, 0.0898, 0.2305,\n",
            "         0.2023, 0.5961, 0.0333],\n",
            "        [0.4430, 0.8749, 0.9685, 0.9404, 0.2046, 0.1133, 0.7014, 0.4442, 0.5397,\n",
            "         0.7231, 0.6989, 0.1136],\n",
            "        [0.1385, 0.4379, 0.1762, 0.2114, 0.7182, 0.0498, 0.1753, 0.3050, 0.2044,\n",
            "         0.7332, 0.2657, 0.0622]])\n",
            "tensor([[0.8578, 3.2515, 3.0984, 2.9514, 5.5667, 1.3045, 5.3922, 1.0492, 6.9069,\n",
            "         3.8855, 1.9260, 0.4654],\n",
            "        [5.2084, 0.7395, 2.4712, 3.5335, 5.1640, 1.0843, 7.0233, 3.8115, 2.3471,\n",
            "         6.4306, 1.0490, 1.3432],\n",
            "        [4.4476, 5.1305, 4.0724, 7.0843, 1.7933, 2.9833, 1.1064, 7.1658, 5.7577,\n",
            "         0.8312, 3.6730, 3.5302],\n",
            "        [1.4062, 0.5726, 7.2772, 6.2349, 4.3027, 5.9975, 6.2911, 4.8591, 1.4678,\n",
            "         0.6709, 1.5524, 2.0221],\n",
            "        [7.2778, 0.3953, 4.7391, 6.2586, 0.5649, 5.0390, 4.7108, 0.8173, 4.3273,\n",
            "         5.2983, 6.8621, 5.1554],\n",
            "        [5.0894, 3.0456, 6.2222, 1.2311, 1.5370, 5.8873, 4.6420, 5.7387, 6.8915,\n",
            "         3.0221, 7.2311, 7.1174],\n",
            "        [5.5579, 3.5245, 0.5053, 1.2806, 5.7676, 0.5433, 6.9359, 6.1973, 6.6746,\n",
            "         3.2958, 6.9024, 2.8252],\n",
            "        [1.8410, 3.8045, 0.7719, 6.1705, 4.5845, 1.8801, 1.2487, 5.8603, 5.2080,\n",
            "         7.0152, 5.6117, 7.1428],\n",
            "        [3.2224, 1.9648, 4.2792, 1.5560, 0.5410, 6.1425, 2.1132, 0.8524, 0.4289,\n",
            "         0.6461, 0.9461, 3.5143],\n",
            "        [3.6771, 5.8091, 5.2823, 7.1795, 0.7980, 4.6312, 0.5813, 0.9286, 1.9136,\n",
            "         1.7159, 4.4724, 0.5329],\n",
            "        [3.4012, 6.4246, 7.0798, 6.8830, 1.7325, 1.0931, 5.2099, 3.4091, 4.0777,\n",
            "         5.3618, 5.1922, 1.0953],\n",
            "        [1.2697, 3.3655, 1.5336, 1.7799, 5.3275, 0.6486, 1.5274, 2.4353, 1.7310,\n",
            "         5.4324, 2.1601, 0.7351]])\n"
          ]
        }
      ],
      "source": [
        "import torch\n",
        "from torch import nn #nn contains all the neural networks\n",
        "import matplotlib.pyplot as plt\n",
        "\n",
        "weight = 7\n",
        "bias = 0.3\n",
        "\n",
        "start = 0\n",
        "end = 1\n",
        "step = 0.02\n",
        "\n",
        "X = torch.rand([12,12])\n",
        "print(X)\n",
        "# That formula\n",
        "\n",
        "# 𝑌\n",
        "# =\n",
        "# weight\n",
        "# ×\n",
        "# 𝑋\n",
        "# +\n",
        "# bias\n",
        "# Y=weight×X+bias\n",
        "# is the equation of a straight line in its slope-intercept form — just expressed in machine learning terms.\n",
        "\n",
        "# Names in different contexts\n",
        "# Math / Geometry: Slope–Intercept Form →\n",
        "# 𝑦\n",
        "# =\n",
        "# 𝑚\n",
        "# 𝑥\n",
        "# +\n",
        "# 𝑏\n",
        "# y=mx+b\n",
        "\n",
        "# 𝑚\n",
        "# m = slope of the line\n",
        "\n",
        "# 𝑏\n",
        "# b = y-intercept\n",
        "\n",
        "# Machine Learning: Linear Model\n",
        "\n",
        "# weight (or\n",
        "# 𝑤\n",
        "# w) = slope (controls how much X affects Y)\n",
        "\n",
        "# bias (or\n",
        "# 𝑏\n",
        "# b) = intercept (shifts the line up or down)\n",
        "\n",
        "# Together, weight + bias are model parameters.\n",
        "\n",
        "# Neural Networks: Linear transformation or affine transformation\n",
        "\n",
        "# Often written as:\n",
        "\n",
        "# 𝑦\n",
        "# =\n",
        "# 𝑊\n",
        "# 𝑥\n",
        "# +\n",
        "# 𝑏\n",
        "# y=Wx+b\n",
        "# when dealing with multiple inputs.\n",
        "\n",
        "Y = weight * X + bias\n",
        "\n",
        "print(Y)\n",
        "train_split = int(0.8 * len(X))\n",
        "X_train , Y_train = X[:train_split], Y[:train_split]\n",
        "X_test , Y_test = X[train_split:], Y[train_split:]\n",
        "\n",
        "\n"
      ]
    },
    {
      "cell_type": "code",
      "source": [
        "def plot_predictions(train_data=X_train,\n",
        "                     train_labels=Y_train,\n",
        "                     test_data=X_test,\n",
        "                      test_labels=Y_test,\n",
        "                     predictions=None\n",
        "                     ):\n",
        "  \"\"\"\n",
        "  Plots training data and test data comparison\n",
        "  \"\"\"\n",
        "  plt.figure(figsize=(10,7))\n",
        "  plt.scatter(train_data,train_labels,c=\"b\",s=4,label=\"Training data\")\n",
        "  plt.scatter(test_data,test_labels,c=\"g\",s=4,label=\"Testing data\")\n",
        "  if predictions is not None:\n",
        "    plt.scatter(test_data,predictions,c=\"r\",s=4,label=\"Predictions\")\n",
        "\n",
        "  plt.legend(prop={\"size\":14});"
      ],
      "metadata": {
        "id": "jyL9u59kD52J"
      },
      "execution_count": 30,
      "outputs": []
    },
    {
      "cell_type": "code",
      "source": [
        "plot_predictions()"
      ],
      "metadata": {
        "colab": {
          "base_uri": "https://localhost:8080/",
          "height": 545
        },
        "id": "fHWZx9l_GI4u",
        "outputId": "ec40d06b-49f4-459e-c9f9-5a02a47dbc6d"
      },
      "execution_count": 31,
      "outputs": [
        {
          "output_type": "display_data",
          "data": {
            "text/plain": [
              "<Figure size 1000x700 with 1 Axes>"
            ],
            "image/png": "[encoded data removed]"
          },
          "metadata": {}
        }
      ]
    }
  ]
}