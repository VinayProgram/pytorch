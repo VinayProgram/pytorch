{
  "nbformat": 4,
  "nbformat_minor": 0,
  "metadata": {
    "colab": {
      "provenance": [],
      "gpuType": "T4",
      "authorship_tag": "ABX9TyMcfBObbdAwQjrV4P/b8ME4",
      "include_colab_link": true
    },
    "kernelspec": {
      "name": "python3",
      "display_name": "Python 3"
    },
    "language_info": {
      "name": "python"
    }
  },
  "cells": [
    {
      "cell_type": "markdown",
      "metadata": {
        "id": "view-in-github",
        "colab_type": "text"
      },
      "source": [
        "<a href=\"https://colab.research.google.com/github/VinayProgram/pytorch/blob/main/pytorch_basic.ipynb\" target=\"_parent\"><img src=\"https://colab.research.google.com/assets/colab-badge.svg\" alt=\"Open In Colab\"/></a>"
      ]
    },
    {
      "cell_type": "code",
      "execution_count": 2,
      "metadata": {
        "id": "hbj4sxEWoCjY"
      },
      "outputs": [],
      "source": [
        ""
      ]
    },
    {
      "cell_type": "code",
      "source": [
        "import torch\n",
        "import pandas as pd\n",
        "import numpy as np\n",
        "import torch.nn as nn\n",
        "import matplotlib.pyplot as plt"
      ],
      "metadata": {
        "id": "NlfSs6MSoPV9"
      },
      "execution_count": 3,
      "outputs": []
    },
    {
      "cell_type": "code",
      "source": [
        "#scalar\n",
        "scalar = torch.tensor(7)\n",
        "print(scalar)"
      ],
      "metadata": {
        "colab": {
          "base_uri": "https://localhost:8080/"
        },
        "id": "GN-lHxYfqSg1",
        "outputId": "00169f2c-ecf6-42e4-bf8a-b5a76cc2c46e"
      },
      "execution_count": 4,
      "outputs": [
        {
          "output_type": "stream",
          "name": "stdout",
          "text": [
            "tensor(7)\n"
          ]
        }
      ]
    },
    {
      "cell_type": "markdown",
      "source": [],
      "metadata": {
        "id": "s5pBx9OTqSJO"
      }
    },
    {
      "cell_type": "code",
      "source": [
        "# That means although scalar is a single number, it's of type torch.Tensor."
      ],
      "metadata": {
        "id": "EBaUSL_LZuOE"
      },
      "execution_count": 5,
      "outputs": []
    },
    {
      "cell_type": "code",
      "source": [
        "# to check the dimension of an vector we can use ndim attribute\n",
        "scalar.ndim\n",
        "# to reterieve the scalar number\n",
        "scalar.item()"
      ],
      "metadata": {
        "colab": {
          "base_uri": "https://localhost:8080/"
        },
        "id": "kbyX0lrAZz3a",
        "outputId": "672ca7d9-04b7-41ca-c0b5-6a51c2190ce8"
      },
      "execution_count": 6,
      "outputs": [
        {
          "output_type": "execute_result",
          "data": {
            "text/plain": [
              "7"
            ]
          },
          "metadata": {},
          "execution_count": 6
        }
      ]
    },
    {
      "cell_type": "code",
      "source": [
        "vector = torch.tensor([7, 7])\n",
        "#vector declarion\n",
        "vector\n",
        "#dimensions of vector\n",
        "vector.ndim\n",
        "#this will tell the shape of vector which conssits of\n",
        "vector.shape\n"
      ],
      "metadata": {
        "colab": {
          "base_uri": "https://localhost:8080/"
        },
        "id": "cBvUqrhyZ3jF",
        "outputId": "a5016073-7000-465c-f7ba-a33d3c7f9591"
      },
      "execution_count": 7,
      "outputs": [
        {
          "output_type": "execute_result",
          "data": {
            "text/plain": [
              "torch.Size([2])"
            ]
          },
          "metadata": {},
          "execution_count": 7
        }
      ]
    },
    {
      "cell_type": "code",
      "source": [
        "MATRIX = torch.tensor([[7, 8],\n",
        "                       [9, 10]])\n",
        "MATRIX\n",
        "MATRIX.ndim\n",
        "MATRIX.shape\n"
      ],
      "metadata": {
        "colab": {
          "base_uri": "https://localhost:8080/"
        },
        "id": "gJb0zxHGaAiu",
        "outputId": "5a361085-21de-49b8-f373-6418fd025e6a"
      },
      "execution_count": 8,
      "outputs": [
        {
          "output_type": "execute_result",
          "data": {
            "text/plain": [
              "torch.Size([2, 2])"
            ]
          },
          "metadata": {},
          "execution_count": 8
        }
      ]
    },
    {
      "cell_type": "code",
      "source": [
        "TENSOR = torch.tensor([[[1, 2, 3],\n",
        "                        [3, 6, 9],\n",
        "                        [2, 4, 5]]])\n",
        "TENSOR"
      ],
      "metadata": {
        "colab": {
          "base_uri": "https://localhost:8080/"
        },
        "id": "GL9p7_5FbKUT",
        "outputId": "7ab7bb3e-755b-49c0-dc5d-8d0719b7305f"
      },
      "execution_count": 9,
      "outputs": [
        {
          "output_type": "execute_result",
          "data": {
            "text/plain": [
              "tensor([[[1, 2, 3],\n",
              "         [3, 6, 9],\n",
              "         [2, 4, 5]]])"
            ]
          },
          "metadata": {},
          "execution_count": 9
        }
      ]
    },
    {
      "cell_type": "code",
      "source": [
        "\n",
        "# Basic operations\n",
        "\n",
        "tensor = torch.tensor([1,2,4])\n",
        "tensor+10\n",
        "tensor*10\n",
        "\n",
        "\n",
        "#matrix mutliplication\n",
        "tensor1 =torch.tensor([3,4,5])\n",
        "tensor*tensor1\n",
        "\n",
        "\n",
        "#same size cannot be multipled\n",
        "randtensor1 = torch.rand([1,3])\n",
        "randtensor = torch.rand([3,1])\n",
        "randtensor.matmul(randtensor1)\n",
        "\n",
        "# Since the linear layer starts with a random weights matrix, let's make it reproducible (more on this later)\n",
        "#what the nn linear actully does\n",
        "# suppooose we have a tensor/vector in pointed on a graph with xyz and then we want to create a linear points between xyz we use nn.Linear\n",
        "#what happens when we use matrix in tensor\n",
        "# Then the random weights in nn.Linear and the numbers from torch.rand() will be exactly the same each run.\n",
        "# torch.manual_seed(42)\n",
        "\n",
        "layer = nn.Linear(in_features=12, out_features=1)  # 3 inputs → 2 outputs\n",
        "x = torch.tensor([[1.0, 2.0, 3.0,\n",
        "                   12,23,45,\n",
        "                   23,45,34,\n",
        "                   2,2,1\n",
        "                   ]])  # shape: (1, 3)\n",
        "#what if we use tensor matrix\n",
        "#if you turn on manual seed random number generation will change to its origin\n",
        "randomMatrix = torch.rand([12,12])\n",
        "print(randomMatrix)\n",
        "y = layer(randomMatrix)  # shape: (1, 2)\n",
        "print(y)\n"
      ],
      "metadata": {
        "colab": {
          "base_uri": "https://localhost:8080/"
        },
        "id": "GA68NBrBdDH2",
        "outputId": "c545c705-df87-4817-ef42-10854a1320c1"
      },
      "execution_count": 10,
      "outputs": [
        {
          "output_type": "stream",
          "name": "stdout",
          "text": [
            "tensor([[6.7817e-01, 8.3602e-01, 7.4523e-01, 7.6926e-01, 1.7497e-01, 2.6501e-01,\n",
            "         4.9947e-02, 2.2872e-01, 4.6034e-01, 8.4789e-03, 2.5052e-01, 2.9152e-01],\n",
            "        [4.6272e-01, 2.1329e-01, 5.8819e-01, 2.8669e-01, 4.9662e-01, 8.2654e-01,\n",
            "         3.1754e-01, 9.2079e-01, 5.4930e-01, 7.5128e-01, 3.6803e-01, 1.3303e-01],\n",
            "        [9.3268e-02, 6.1069e-02, 2.4979e-01, 7.5179e-01, 7.4073e-01, 6.1164e-01,\n",
            "         3.1913e-01, 5.5329e-01, 7.2259e-01, 6.6583e-03, 7.7702e-01, 5.5249e-01],\n",
            "        [1.5872e-01, 2.2732e-01, 1.5829e-01, 9.5427e-01, 1.5172e-01, 8.7261e-01,\n",
            "         6.6697e-01, 3.2021e-01, 9.0430e-01, 4.1041e-01, 6.6381e-01, 6.2132e-01],\n",
            "        [6.9148e-01, 9.8017e-01, 7.0394e-01, 6.2511e-01, 8.8025e-01, 8.3117e-01,\n",
            "         9.7183e-01, 6.3754e-01, 4.6151e-01, 5.2988e-01, 9.5236e-01, 5.6250e-01],\n",
            "        [4.5501e-01, 6.3246e-01, 9.1407e-01, 6.1739e-01, 4.5634e-01, 4.1950e-01,\n",
            "         6.5290e-01, 3.4186e-01, 7.8337e-01, 9.7028e-01, 9.5234e-01, 2.8191e-01],\n",
            "        [2.2039e-01, 7.4570e-01, 9.7019e-02, 9.4868e-01, 8.2999e-01, 7.0564e-01,\n",
            "         5.9615e-02, 9.9900e-01, 6.4252e-01, 3.2411e-01, 5.1965e-01, 5.6572e-01],\n",
            "        [4.6898e-01, 1.4245e-01, 5.1261e-01, 4.6091e-01, 2.4665e-01, 4.5957e-02,\n",
            "         5.2491e-01, 6.2420e-01, 3.0278e-01, 1.5467e-01, 6.2967e-01, 7.4966e-01],\n",
            "        [4.0955e-01, 4.1433e-01, 2.9478e-01, 5.4266e-01, 9.3867e-01, 4.3091e-01,\n",
            "         5.5005e-01, 5.0129e-01, 9.2548e-01, 3.7225e-01, 4.4435e-01, 2.1887e-01],\n",
            "        [7.2822e-01, 8.8863e-01, 8.6563e-01, 2.8862e-01, 7.2325e-01, 3.1389e-01,\n",
            "         5.4955e-01, 8.9111e-01, 8.3643e-01, 3.7842e-01, 1.4137e-01, 8.0824e-01],\n",
            "        [4.0282e-01, 5.8248e-01, 3.2755e-02, 9.1403e-01, 6.6708e-01, 6.1457e-01,\n",
            "         3.1242e-01, 1.8898e-01, 8.3760e-01, 4.4024e-02, 5.5662e-01, 9.0615e-02],\n",
            "        [8.0058e-01, 9.3893e-01, 1.6779e-04, 1.7598e-01, 3.5216e-01, 8.6474e-01,\n",
            "         2.4916e-01, 1.8106e-01, 3.3185e-01, 4.9152e-01, 7.0454e-02, 8.3639e-01]])\n",
            "tensor([[0.5154],\n",
            "        [0.5342],\n",
            "        [0.1459],\n",
            "        [0.4886],\n",
            "        [0.8299],\n",
            "        [0.8584],\n",
            "        [0.1829],\n",
            "        [0.3555],\n",
            "        [0.3439],\n",
            "        [0.6752],\n",
            "        [0.2581],\n",
            "        [0.8168]], grad_fn=<AddmmBackward0>)\n"
          ]
        }
      ]
    },
    {
      "cell_type": "code",
      "source": [
        "x = torch.tensor([2.0, 4.0, 6.0])\n",
        "mean_val = torch.mean(x)\n",
        "print(mean_val)  # tensor(4.)"
      ],
      "metadata": {
        "colab": {
          "base_uri": "https://localhost:8080/"
        },
        "id": "uNVWiyDIwi6N",
        "outputId": "f0732d37-797d-426b-8ed2-5d7a5ffc4523"
      },
      "execution_count": 11,
      "outputs": [
        {
          "output_type": "stream",
          "name": "stdout",
          "text": [
            "tensor(4.)\n"
          ]
        }
      ]
    },
    {
      "cell_type": "code",
      "source": [
        "# Create a tensor and check its datatype\n",
        "tensor = torch.arange(10., 100., 10.)\n",
        "tensor.dtype"
      ],
      "metadata": {
        "colab": {
          "base_uri": "https://localhost:8080/"
        },
        "id": "4aBjrQNEw6hI",
        "outputId": "cbd62704-0301-40eb-ab55-b60304333ecd"
      },
      "execution_count": 12,
      "outputs": [
        {
          "output_type": "execute_result",
          "data": {
            "text/plain": [
              "torch.float32"
            ]
          },
          "metadata": {},
          "execution_count": 12
        }
      ]
    },
    {
      "cell_type": "code",
      "source": [
        "\n",
        "# Reshaping, stacking, squeezing and unsqueezing\n",
        "\n",
        "x = torch.arange(1., 9.)\n",
        "x, x.shape\n",
        "\n",
        "x_reshaped = x.reshape(2,2,2)\n",
        "x_reshaped"
      ],
      "metadata": {
        "colab": {
          "base_uri": "https://localhost:8080/"
        },
        "id": "snQn0KqzDBcL",
        "outputId": "f5ea662d-dead-4235-b1a1-50ae47dc6b06"
      },
      "execution_count": 13,
      "outputs": [
        {
          "output_type": "execute_result",
          "data": {
            "text/plain": [
              "tensor([[[1., 2.],\n",
              "         [3., 4.]],\n",
              "\n",
              "        [[5., 6.],\n",
              "         [7., 8.]]])"
            ]
          },
          "metadata": {},
          "execution_count": 13
        }
      ]
    },
    {
      "cell_type": "code",
      "source": [
        "##Creating A Random Tensor\n",
        "torch.manual_seed(42)\n",
        "rdmtensor= torch.rand(7,7)\n",
        "print(torch.rand(7,7))\n",
        "rdmtensor2 = torch.rand(1,7)\n",
        "rdmtensor*rdmtensor2\n",
        "\n"
      ],
      "metadata": {
        "colab": {
          "base_uri": "https://localhost:8080/"
        },
        "id": "Oz8FGrXtF3I-",
        "outputId": "1aec9c32-dd64-4c7d-c075-50d56521f9c2"
      },
      "execution_count": 31,
      "outputs": [
        {
          "output_type": "stream",
          "name": "stdout",
          "text": [
            "tensor([[0.1952, 0.0050, 0.3068, 0.1165, 0.9103, 0.6440, 0.7071],\n",
            "        [0.6581, 0.4913, 0.8913, 0.1447, 0.5315, 0.1587, 0.6542],\n",
            "        [0.3278, 0.6532, 0.3958, 0.9147, 0.2036, 0.2018, 0.2018],\n",
            "        [0.9497, 0.6666, 0.9811, 0.0874, 0.0041, 0.1088, 0.1637],\n",
            "        [0.7025, 0.6790, 0.9155, 0.2418, 0.1591, 0.7653, 0.2979],\n",
            "        [0.8035, 0.3813, 0.7860, 0.1115, 0.2477, 0.6524, 0.6057],\n",
            "        [0.3725, 0.7980, 0.8399, 0.1374, 0.2331, 0.9578, 0.3313]])\n"
          ]
        },
        {
          "output_type": "execute_result",
          "data": {
            "text/plain": [
              "tensor([[2.8475e-01, 1.4826e-02, 8.1805e-02, 5.9947e-01, 1.6946e-01, 8.2357e-02,\n",
              "         1.3130e-01],\n",
              "        [2.5614e-01, 1.5243e-02, 2.8457e-02, 5.8403e-01, 2.5762e-01, 1.1916e-01,\n",
              "         2.9052e-01],\n",
              "        [2.3918e-01, 6.9575e-03, 1.8919e-01, 3.5863e-01, 1.1570e-01, 8.5996e-02,\n",
              "         1.3798e-01],\n",
              "        [1.4245e-01, 4.8109e-03, 1.7770e-01, 6.5811e-02, 1.1696e-01, 4.9178e-02,\n",
              "         1.0202e-01],\n",
              "        [1.7660e-01, 9.9816e-05, 2.0331e-01, 4.7034e-02, 3.8453e-01, 7.9933e-02,\n",
              "         1.7278e-01],\n",
              "        [2.6109e-01, 9.3639e-03, 1.9315e-01, 3.4661e-01, 1.4857e-01, 8.6941e-02,\n",
              "         1.8648e-01],\n",
              "        [2.2929e-01, 1.5334e-02, 1.6859e-01, 1.7586e-01, 3.4227e-01, 8.0790e-02,\n",
              "         3.8580e-01]])"
            ]
          },
          "metadata": {},
          "execution_count": 31
        }
      ]
    }
  ]
}